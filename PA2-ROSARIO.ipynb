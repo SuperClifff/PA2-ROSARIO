{
 "cells": [
  {
   "cell_type": "markdown",
   "id": "01b75d3c",
   "metadata": {},
   "source": [
    "# PROGRAMMING PA2\n",
    "\n",
    "## NORMALIZATION PROBLEM"
   ]
  },
  {
   "cell_type": "code",
   "execution_count": 4,
   "id": "f8b2847b",
   "metadata": {
    "scrolled": true
   },
   "outputs": [
    {
     "name": "stdout",
     "output_type": "stream",
     "text": [
      "[[0.82442147 0.88510746 0.30983702 0.50253942 0.48235142]\n",
      " [0.45807195 0.60793173 0.34347885 0.4416024  0.12846863]\n",
      " [0.97671775 0.78644681 0.57345499 0.34837123 0.48988681]\n",
      " [0.40266939 0.94928225 0.94193975 0.3762273  0.0055074 ]\n",
      " [0.43914619 0.29640329 0.33131185 0.94079832 0.06376232]]\n"
     ]
    }
   ],
   "source": [
    "import numpy as np\n",
    "\n",
    "X = np.random.random((5,5))\n",
    "print(X)"
   ]
  },
  {
   "cell_type": "code",
   "execution_count": 5,
   "id": "f6eb5588",
   "metadata": {},
   "outputs": [
    {
     "name": "stdout",
     "output_type": "stream",
     "text": [
      "[[-2.24669438 -1.91287939 -1.80088606 -1.83124388 -1.71600901]\n",
      " [-1.88284383 -1.59933204 -2.48084157 -1.76460768 -1.81729039]\n",
      " [-2.35028481 -1.91408642 -2.06633635 -1.9921748  -2.12661943]\n",
      " [-2.02768098 -1.96113961 -1.73645292 -1.62406817 -2.4871119 ]\n",
      " [-1.70125889 -1.78731572 -2.00726847 -1.97736782 -2.11159103]]\n"
     ]
    }
   ],
   "source": [
    "xmean = np.mean(x)\n",
    "xstd = np.std(x)\n",
    "z = (x-xmean/xstd)\n",
    "print(z)"
   ]
  },
  {
   "cell_type": "code",
   "execution_count": 6,
   "id": "c43658cb",
   "metadata": {},
   "outputs": [],
   "source": [
    "np.save('X_normalized.npy' , z)"
   ]
  },
  {
   "cell_type": "markdown",
   "id": "1aba8cda",
   "metadata": {},
   "source": [
    "## DIVISIBLE BY 3 PROBLEM"
   ]
  },
  {
   "cell_type": "code",
   "execution_count": 16,
   "id": "452bb111",
   "metadata": {},
   "outputs": [
    {
     "name": "stdout",
     "output_type": "stream",
     "text": [
      "[[    1     4     9    16    25    36    49    64    81   100]\n",
      " [  121   144   169   196   225   256   289   324   361   400]\n",
      " [  441   484   529   576   625   676   729   784   841   900]\n",
      " [  961  1024  1089  1156  1225  1296  1369  1444  1521  1600]\n",
      " [ 1681  1764  1849  1936  2025  2116  2209  2304  2401  2500]\n",
      " [ 2601  2704  2809  2916  3025  3136  3249  3364  3481  3600]\n",
      " [ 3721  3844  3969  4096  4225  4356  4489  4624  4761  4900]\n",
      " [ 5041  5184  5329  5476  5625  5776  5929  6084  6241  6400]\n",
      " [ 6561  6724  6889  7056  7225  7396  7569  7744  7921  8100]\n",
      " [ 8281  8464  8649  8836  9025  9216  9409  9604  9801 10000]]\n"
     ]
    }
   ],
   "source": [
    "array = np.arange(1, 101)\n",
    "x = array ** 2\n",
    "d3 = x.reshape(10,10)\n",
    "print(d3)"
   ]
  },
  {
   "cell_type": "code",
   "execution_count": 17,
   "id": "34616254",
   "metadata": {},
   "outputs": [
    {
     "name": "stdout",
     "output_type": "stream",
     "text": [
      "[   9   36   81  144  225  324  441  576  729  900 1089 1296 1521 1764\n",
      " 2025 2304 2601 2916 3249 3600 3969 4356 4761 5184 5625 6084 6561 7056\n",
      " 7569 8100 8649 9216 9801]\n"
     ]
    }
   ],
   "source": [
    "div3 = x[x%3==0]\n",
    "print(div3)"
   ]
  },
  {
   "cell_type": "code",
   "execution_count": 18,
   "id": "02d69ac4",
   "metadata": {},
   "outputs": [],
   "source": [
    "np.save('div-by-3.np', x[x%3==0])"
   ]
  },
  {
   "cell_type": "code",
   "execution_count": null,
   "id": "6185ddaa",
   "metadata": {},
   "outputs": [],
   "source": []
  }
 ],
 "metadata": {
  "kernelspec": {
   "display_name": "Python 3 (ipykernel)",
   "language": "python",
   "name": "python3"
  },
  "language_info": {
   "codemirror_mode": {
    "name": "ipython",
    "version": 3
   },
   "file_extension": ".py",
   "mimetype": "text/x-python",
   "name": "python",
   "nbconvert_exporter": "python",
   "pygments_lexer": "ipython3",
   "version": "3.11.4"
  }
 },
 "nbformat": 4,
 "nbformat_minor": 5
}
