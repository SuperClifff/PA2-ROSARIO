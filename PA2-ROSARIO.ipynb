{
 "cells": [
  {
   "cell_type": "markdown",
   "id": "01b75d3c",
   "metadata": {},
   "source": [
    "# PROGRAMMING PA2\n",
    "\n",
    "## NORMALIZATION PROBLEM"
   ]
  },
  {
   "cell_type": "code",
   "execution_count": 5,
   "id": "f8b2847b",
   "metadata": {
    "scrolled": false
   },
   "outputs": [
    {
     "name": "stdout",
     "output_type": "stream",
     "text": [
      "[[0.22524461 0.56047481 0.01839727 0.71638922 0.30957512]\n",
      " [0.71365635 0.97813989 0.73015704 0.805215   0.12344954]\n",
      " [0.22522312 0.14825512 0.35955435 0.7391379  0.79767287]\n",
      " [0.17058229 0.70038778 0.64163012 0.84778345 0.74115833]\n",
      " [0.88061899 0.55032478 0.31194958 0.55377617 0.50798644]]\n"
     ]
    }
   ],
   "source": [
    "import numpy as np\n",
    "\n",
    "X = np.random.random((5,5))\n",
    "print(X)"
   ]
  },
  {
   "cell_type": "code",
   "execution_count": 13,
   "id": "f6eb5588",
   "metadata": {
    "scrolled": false
   },
   "outputs": [
    {
     "name": "stdout",
     "output_type": "stream",
     "text": [
      "[[-1.75200739 -1.41677719 -1.95885474 -1.26086279 -1.66767689]\n",
      " [-1.26359566 -0.99911212 -1.24709497 -1.17203701 -1.85380246]\n",
      " [-1.75202888 -1.82899688 -1.61769765 -1.23811411 -1.17957913]\n",
      " [-1.80666971 -1.27686423 -1.33562189 -1.12946855 -1.23609368]\n",
      " [-1.09663302 -1.42692722 -1.66530243 -1.42347584 -1.46926556]]\n"
     ]
    }
   ],
   "source": [
    "Xmean = np.mean(X)\n",
    "Xstd = np.std(X)\n",
    "z = (X-Xmean/Xstd)\n",
    "print(z)"
   ]
  },
  {
   "cell_type": "code",
   "execution_count": 14,
   "id": "c43658cb",
   "metadata": {
    "scrolled": true
   },
   "outputs": [],
   "source": [
    "np.save('X_normalized.npy' , z)"
   ]
  },
  {
   "cell_type": "markdown",
   "id": "1aba8cda",
   "metadata": {},
   "source": [
    "## DIVISIBLE BY 3 PROBLEM"
   ]
  },
  {
   "cell_type": "code",
   "execution_count": 15,
   "id": "452bb111",
   "metadata": {
    "scrolled": true
   },
   "outputs": [
    {
     "name": "stdout",
     "output_type": "stream",
     "text": [
      "[[    1     4     9    16    25    36    49    64    81   100]\n",
      " [  121   144   169   196   225   256   289   324   361   400]\n",
      " [  441   484   529   576   625   676   729   784   841   900]\n",
      " [  961  1024  1089  1156  1225  1296  1369  1444  1521  1600]\n",
      " [ 1681  1764  1849  1936  2025  2116  2209  2304  2401  2500]\n",
      " [ 2601  2704  2809  2916  3025  3136  3249  3364  3481  3600]\n",
      " [ 3721  3844  3969  4096  4225  4356  4489  4624  4761  4900]\n",
      " [ 5041  5184  5329  5476  5625  5776  5929  6084  6241  6400]\n",
      " [ 6561  6724  6889  7056  7225  7396  7569  7744  7921  8100]\n",
      " [ 8281  8464  8649  8836  9025  9216  9409  9604  9801 10000]]\n"
     ]
    }
   ],
   "source": [
    "array = np.arange(1, 101)\n",
    "x = array ** 2\n",
    "d3 = x.reshape(10,10)\n",
    "print(d3)"
   ]
  },
  {
   "cell_type": "code",
   "execution_count": 16,
   "id": "34616254",
   "metadata": {},
   "outputs": [
    {
     "name": "stdout",
     "output_type": "stream",
     "text": [
      "[   9   36   81  144  225  324  441  576  729  900 1089 1296 1521 1764\n",
      " 2025 2304 2601 2916 3249 3600 3969 4356 4761 5184 5625 6084 6561 7056\n",
      " 7569 8100 8649 9216 9801]\n"
     ]
    }
   ],
   "source": [
    "div3 = x[x%3==0]\n",
    "print(div3)"
   ]
  },
  {
   "cell_type": "code",
   "execution_count": 17,
   "id": "02d69ac4",
   "metadata": {},
   "outputs": [],
   "source": [
    "np.save('div-by-3.np', x[x%3==0])"
   ]
  }
 ],
 "metadata": {
  "kernelspec": {
   "display_name": "Python 3 (ipykernel)",
   "language": "python",
   "name": "python3"
  },
  "language_info": {
   "codemirror_mode": {
    "name": "ipython",
    "version": 3
   },
   "file_extension": ".py",
   "mimetype": "text/x-python",
   "name": "python",
   "nbconvert_exporter": "python",
   "pygments_lexer": "ipython3",
   "version": "3.11.4"
  }
 },
 "nbformat": 4,
 "nbformat_minor": 5
}
